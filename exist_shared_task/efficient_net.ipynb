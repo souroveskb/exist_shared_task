{
 "cells": [
  {
   "cell_type": "code",
   "execution_count": 21,
   "metadata": {},
   "outputs": [],
   "source": [
    "from transformers import EfficientNetConfig, EfficientNetModel\n",
    "from transformers import AutoImageProcessor, EfficientFormerModel\n",
    "import torch\n",
    "from datasets import load_dataset"
   ]
  },
  {
   "cell_type": "code",
   "execution_count": 7,
   "metadata": {},
   "outputs": [],
   "source": [
    "config = EfficientNetConfig()\n",
    "model = EfficientNetModel(config=config)"
   ]
  },
  {
   "cell_type": "code",
   "execution_count": 8,
   "metadata": {},
   "outputs": [],
   "source": [
    "configuration = model.config"
   ]
  },
  {
   "cell_type": "code",
   "execution_count": 9,
   "metadata": {},
   "outputs": [
    {
     "data": {
      "text/plain": [
       "EfficientNetConfig {\n",
       "  \"batch_norm_eps\": 0.001,\n",
       "  \"batch_norm_momentum\": 0.99,\n",
       "  \"depth_coefficient\": 3.1,\n",
       "  \"depth_divisor\": 8,\n",
       "  \"depthwise_padding\": [],\n",
       "  \"drop_connect_rate\": 0.2,\n",
       "  \"dropout_rate\": 0.5,\n",
       "  \"expand_ratios\": [\n",
       "    1,\n",
       "    6,\n",
       "    6,\n",
       "    6,\n",
       "    6,\n",
       "    6,\n",
       "    6\n",
       "  ],\n",
       "  \"hidden_act\": \"swish\",\n",
       "  \"hidden_dim\": 2560,\n",
       "  \"image_size\": 600,\n",
       "  \"in_channels\": [\n",
       "    32,\n",
       "    16,\n",
       "    24,\n",
       "    40,\n",
       "    80,\n",
       "    112,\n",
       "    192\n",
       "  ],\n",
       "  \"initializer_range\": 0.02,\n",
       "  \"kernel_sizes\": [\n",
       "    3,\n",
       "    3,\n",
       "    5,\n",
       "    3,\n",
       "    5,\n",
       "    5,\n",
       "    3\n",
       "  ],\n",
       "  \"model_type\": \"efficientnet\",\n",
       "  \"num_block_repeats\": [\n",
       "    1,\n",
       "    2,\n",
       "    2,\n",
       "    3,\n",
       "    3,\n",
       "    4,\n",
       "    1\n",
       "  ],\n",
       "  \"num_channels\": 3,\n",
       "  \"num_hidden_layers\": 64,\n",
       "  \"out_channels\": [\n",
       "    16,\n",
       "    24,\n",
       "    40,\n",
       "    80,\n",
       "    112,\n",
       "    192,\n",
       "    320\n",
       "  ],\n",
       "  \"pooling_type\": \"mean\",\n",
       "  \"squeeze_expansion_ratio\": 0.25,\n",
       "  \"strides\": [\n",
       "    1,\n",
       "    2,\n",
       "    2,\n",
       "    2,\n",
       "    1,\n",
       "    2,\n",
       "    1\n",
       "  ],\n",
       "  \"transformers_version\": \"4.40.1\",\n",
       "  \"width_coefficient\": 2.0\n",
       "}"
      ]
     },
     "execution_count": 9,
     "metadata": {},
     "output_type": "execute_result"
    }
   ],
   "source": [
    "configuration"
   ]
  },
  {
   "cell_type": "code",
   "execution_count": 13,
   "metadata": {},
   "outputs": [],
   "source": [
    "dataset = load_dataset(\"huggingface/cats-image\")\n",
    "image = dataset[\"test\"][\"image\"][0]"
   ]
  },
  {
   "cell_type": "code",
   "execution_count": 23,
   "metadata": {},
   "outputs": [
    {
     "name": "stderr",
     "output_type": "stream",
     "text": [
      "/home/penta-101858/Code/exist_shared_task/.venv/lib/python3.10/site-packages/huggingface_hub/file_download.py:1132: FutureWarning: `resume_download` is deprecated and will be removed in version 1.0.0. Downloads always resume when possible. If you want to force a new download, use `force_download=True`.\n",
      "  warnings.warn(\n"
     ]
    }
   ],
   "source": [
    "image_processor = AutoImageProcessor.from_pretrained(\"snap-research/efficientformer-l1-300\")\n",
    "model = EfficientFormerModel.from_pretrained(\"snap-research/efficientformer-l1-300\")"
   ]
  },
  {
   "cell_type": "code",
   "execution_count": 24,
   "metadata": {},
   "outputs": [],
   "source": [
    "inputs = image_processor(image, return_tensors =\"pt\")"
   ]
  },
  {
   "cell_type": "code",
   "execution_count": 25,
   "metadata": {},
   "outputs": [],
   "source": [
    "with torch.no_grad():\n",
    "    outputs = model(**inputs)"
   ]
  },
  {
   "cell_type": "code",
   "execution_count": 27,
   "metadata": {},
   "outputs": [],
   "source": [
    "outputs.attentions"
   ]
  },
  {
   "cell_type": "code",
   "execution_count": 29,
   "metadata": {},
   "outputs": [
    {
     "data": {
      "text/plain": [
       "torch.Size([1, 49, 448])"
      ]
     },
     "execution_count": 29,
     "metadata": {},
     "output_type": "execute_result"
    }
   ],
   "source": [
    "outputs.last_hidden_state.shape"
   ]
  },
  {
   "cell_type": "code",
   "execution_count": null,
   "metadata": {},
   "outputs": [],
   "source": []
  }
 ],
 "metadata": {
  "kernelspec": {
   "display_name": ".venv",
   "language": "python",
   "name": "python3"
  },
  "language_info": {
   "codemirror_mode": {
    "name": "ipython",
    "version": 3
   },
   "file_extension": ".py",
   "mimetype": "text/x-python",
   "name": "python",
   "nbconvert_exporter": "python",
   "pygments_lexer": "ipython3",
   "version": "3.10.12"
  }
 },
 "nbformat": 4,
 "nbformat_minor": 2
}
